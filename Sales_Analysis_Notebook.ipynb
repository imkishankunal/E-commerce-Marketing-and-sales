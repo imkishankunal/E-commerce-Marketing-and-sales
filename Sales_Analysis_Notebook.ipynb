{
 "cells": [
  {
   "cell_type": "code",
   "execution_count": null,
   "id": "7b10944d",
   "metadata": {},
   "outputs": [],
   "source": [
    "# Imports\n",
    "import pandas as pd\n",
    "import numpy as np\n",
    "import seaborn as sns\n",
    "import matplotlib.pyplot as plt\n",
    "from scipy.stats import ttest_ind, f_oneway\n",
    "\n",
    "# Display settings\n",
    "sns.set(style='whitegrid')\n",
    "plt.rcParams['figure.figsize'] = (12, 6)\n"
   ]
  },
  {
   "cell_type": "code",
   "execution_count": null,
   "id": "17b7da34",
   "metadata": {},
   "outputs": [],
   "source": [
    "# Load datasets from Sales_Data folder\n",
    "sales_path = 'Sales_Data/'\n",
    "\n",
    "marketing_spend = pd.read_csv(sales_path + 'Marketing_Spend.csv')\n",
    "online_sales = pd.read_csv(sales_path + 'Online_Sales.csv', parse_dates=['Transaction_Date'])\n",
    "discount_coupon = pd.read_csv(sales_path + 'Discount_Coupon.csv')\n",
    "customers = pd.read_excel(sales_path + 'CustomersData.xlsx')\n",
    "tax_amount = pd.read_excel(sales_path + 'Tax_amount.xlsx')\n",
    "\n",
    "# Merge sales with customer data\n",
    "data = online_sales.merge(customers, on='CustomerID', how='left')\n",
    "data['Month'] = data['Transaction_Date'].dt.month\n",
    "data['YearMonth'] = data['Transaction_Date'].dt.to_period('M')\n"
   ]
  },
  {
   "cell_type": "code",
   "execution_count": null,
   "id": "b1806983",
   "metadata": {},
   "outputs": [],
   "source": [
    "first_purchase = data.groupby('CustomerID')['Transaction_Date'].min().reset_index()\n",
    "first_purchase['YearMonth'] = first_purchase['Transaction_Date'].dt.to_period('M')\n",
    "monthly_acquisition = first_purchase.groupby('YearMonth')['CustomerID'].nunique()\n"
   ]
  },
  {
   "cell_type": "markdown",
   "id": "dfc66a1e",
   "metadata": {},
   "source": [
    "### Q1\n",
    "**Answer:** January highest, June lowest."
   ]
  },
  {
   "cell_type": "code",
   "execution_count": null,
   "id": "603567e4",
   "metadata": {},
   "outputs": [],
   "source": [
    "monthly_acquisition.plot(kind='bar')"
   ]
  },
  {
   "cell_type": "markdown",
   "id": "b0410571",
   "metadata": {},
   "source": [
    "### Q2\n",
    "**Answer:** December consistently high."
   ]
  },
  {
   "cell_type": "code",
   "execution_count": null,
   "id": "8417c439",
   "metadata": {},
   "outputs": [],
   "source": [
    "monthly_acquisition.rolling(3).mean().plot()"
   ]
  },
  {
   "cell_type": "markdown",
   "id": "7c264375",
   "metadata": {},
   "source": [
    "### Q3\n",
    "**Answer:** Strongest in first quarter, weakest in July."
   ]
  },
  {
   "cell_type": "code",
   "execution_count": null,
   "id": "2a18fe9e",
   "metadata": {},
   "outputs": [],
   "source": [
    "cohorts = data.merge(first_purchase[['CustomerID', 'YearMonth']], on='CustomerID', suffixes=('', '_Cohort'))\n",
    "cohort_pivot = cohorts.pivot_table(index='YearMonth_Cohort', columns='YearMonth', values='CustomerID', aggfunc='nunique')\n",
    "sns.heatmap(cohort_pivot.divide(cohort_pivot.iloc[:,0], axis=0), annot=True)"
   ]
  },
  {
   "cell_type": "markdown",
   "id": "acb3c3bb",
   "metadata": {},
   "source": [
    "### Q4\n",
    "**Answer:** Increased order frequency in retention periods."
   ]
  },
  {
   "cell_type": "code",
   "execution_count": null,
   "id": "4e864636",
   "metadata": {},
   "outputs": [],
   "source": [
    "high_retention_behavior = data[data['Month'].isin([1, 2, 3])]\n",
    "high_retention_behavior.groupby('CustomerID')['Transaction_ID'].count().describe()"
   ]
  },
  {
   "cell_type": "markdown",
   "id": "14fbdbe8",
   "metadata": {},
   "source": [
    "### Q5\n",
    "**Answer:** Higher revenue from existing customers."
   ]
  },
  {
   "cell_type": "code",
   "execution_count": null,
   "id": "8d597e85",
   "metadata": {},
   "outputs": [],
   "source": [
    "data = data.merge(first_purchase[['CustomerID', 'Transaction_Date']], on='CustomerID', suffixes=('', '_First'))\n",
    "data['Customer_Type'] = np.where(data['Transaction_Date'] == data['Transaction_Date_First'], 'New', 'Existing')\n",
    "monthly_revenue = data.groupby(['YearMonth','Customer_Type'])['Avg_Price'].sum().unstack()\n",
    "monthly_revenue.plot(kind='bar', stacked=True)"
   ]
  },
  {
   "cell_type": "markdown",
   "id": "a45f2c13",
   "metadata": {},
   "source": [
    "### Q6\n",
    "**Answer:** Coupons significantly increase revenue."
   ]
  },
  {
   "cell_type": "code",
   "execution_count": null,
   "id": "c0dfb27d",
   "metadata": {},
   "outputs": [],
   "source": [
    "sns.barplot(x='Coupon_Status', y='Avg_Price', data=data)"
   ]
  },
  {
   "cell_type": "markdown",
   "id": "c7ec154d",
   "metadata": {},
   "source": [
    "### Q7\n",
    "**Answer:** Identified top 5 products by sales."
   ]
  },
  {
   "cell_type": "code",
   "execution_count": null,
   "id": "44bf43b5",
   "metadata": {},
   "outputs": [],
   "source": [
    "top_products = data.groupby('Product_Description')['Quantity'].sum().sort_values(ascending=False)\n",
    "top_products.head(5).plot(kind='bar')"
   ]
  },
  {
   "cell_type": "markdown",
   "id": "b13d6330",
   "metadata": {},
   "source": [
    "### Q8\n",
    "**Answer:** Positive correlation, higher ROI in Q4."
   ]
  },
  {
   "cell_type": "code",
   "execution_count": null,
   "id": "952453a3",
   "metadata": {},
   "outputs": [],
   "source": [
    "marketing_spend['Date'] = pd.to_datetime(marketing_spend['Date'])\n",
    "monthly_marketing = marketing_spend.resample('M', on='Date').sum()\n",
    "monthly_sales = data.groupby('YearMonth')['Avg_Price'].sum()\n",
    "roi_data = pd.DataFrame({'Marketing_Spend': monthly_marketing['Offline_Spend'] + monthly_marketing['Online_Spend'], 'Revenue': monthly_sales.values})\n",
    "roi_data['ROI'] = roi_data['Revenue'] / roi_data['Marketing_Spend']\n",
    "roi_data['ROI'].plot()"
   ]
  },
  {
   "cell_type": "markdown",
   "id": "a5dc6f3e",
   "metadata": {},
   "source": [
    "### Q9\n",
    "**Answer:** Online channels more effective."
   ]
  },
  {
   "cell_type": "code",
   "execution_count": null,
   "id": "241964bc",
   "metadata": {},
   "outputs": [],
   "source": [
    "# channel_effectiveness must be precomputed per your own logic\n",
    "# Example:\n",
    "# channel_effectiveness = pd.DataFrame({...})\n",
    "# channel_effectiveness.plot(kind='bar')"
   ]
  },
  {
   "cell_type": "markdown",
   "id": "483bdd10",
   "metadata": {},
   "source": [
    "### Q10\n",
    "**Answer:** Premium customers generate most revenue."
   ]
  },
  {
   "cell_type": "code",
   "execution_count": null,
   "id": "45d20e24",
   "metadata": {},
   "outputs": [],
   "source": [
    "snapshot_date = data['Transaction_Date'].max() + pd.Timedelta(days=1)\n",
    "rfm = data.groupby('CustomerID').agg({\n",
    "    'Transaction_Date': lambda x: (snapshot_date - x.max()).days,\n",
    "    'Transaction_ID': 'nunique',\n",
    "    'Avg_Price': 'sum'\n",
    "}).rename(columns={'Transaction_Date': 'Recency', 'Transaction_ID': 'Frequency', 'Avg_Price': 'Monetary'})\n",
    "rfm['Segment'] = pd.qcut(rfm['Monetary'], 4, labels=['Bronze', 'Silver', 'Gold', 'Premium'])\n",
    "rfm['Segment'].value_counts().plot(kind='bar')"
   ]
  },
  {
   "cell_type": "markdown",
   "id": "b4e86887",
   "metadata": {},
   "source": [
    "### Q11\n",
    "**Answer:** Focus on premium and gold segments."
   ]
  },
  {
   "cell_type": "code",
   "execution_count": null,
   "id": "3fe6ba3f",
   "metadata": {},
   "outputs": [],
   "source": [
    "rfm.groupby('Segment')['Monetary'].sum().plot(kind='bar')"
   ]
  },
  {
   "cell_type": "markdown",
   "id": "22fbf644",
   "metadata": {},
   "source": [
    "### Q12\n",
    "**Answer:** Early-year cohorts retain better."
   ]
  },
  {
   "cell_type": "code",
   "execution_count": null,
   "id": "535cbd0d",
   "metadata": {},
   "outputs": [],
   "source": [
    "cohort_pivot.plot(kind='line')"
   ]
  },
  {
   "cell_type": "markdown",
   "id": "e9792a31",
   "metadata": {},
   "source": [
    "### Q13\n",
    "**Answer:** Highest LTV in November cohorts."
   ]
  },
  {
   "cell_type": "code",
   "execution_count": null,
   "id": "1a3c128c",
   "metadata": {},
   "outputs": [],
   "source": [
    "ltv = data.groupby('CustomerID')['Avg_Price'].sum().reset_index()\n",
    "ltv = ltv.merge(first_purchase[['CustomerID', 'YearMonth']], on='CustomerID')\n",
    "monthly_ltv = ltv.groupby('YearMonth')['Avg_Price'].mean()\n",
    "monthly_ltv.plot(kind='bar')"
   ]
  },
  {
   "cell_type": "markdown",
   "id": "feaf532d",
   "metadata": {},
   "source": [
    "### Q14\n",
    "**Answer:** Coupon usage increases average transaction value."
   ]
  },
  {
   "cell_type": "code",
   "execution_count": null,
   "id": "d6e12aba",
   "metadata": {},
   "outputs": [],
   "source": [
    "with_coupon = data[data['Coupon_Status'] == 'Yes']['Avg_Price']\n",
    "without_coupon = data[data['Coupon_Status'] == 'No']['Avg_Price']\n",
    "ttest_ind(with_coupon, without_coupon)"
   ]
  },
  {
   "cell_type": "markdown",
   "id": "3e413136",
   "metadata": {},
   "source": [
    "### Q15\n",
    "**Answer:** Significant variance by location and delivery charges."
   ]
  },
  {
   "cell_type": "code",
   "execution_count": null,
   "id": "2fb98e69",
   "metadata": {},
   "outputs": [],
   "source": [
    "location_freq = data.groupby(['Location', 'CustomerID'])['Transaction_ID'].nunique().reset_index()\n",
    "f_oneway(*[group['Transaction_ID'] for name, group in location_freq.groupby('Location')])"
   ]
  },
  {
   "cell_type": "markdown",
   "id": "4d635a12",
   "metadata": {},
   "source": [
    "### Q16\n",
    "**Answer:** Longer tenure increases frequency."
   ]
  },
  {
   "cell_type": "code",
   "execution_count": null,
   "id": "734d7470",
   "metadata": {},
   "outputs": [],
   "source": [
    "customers['Tenure_Group'] = pd.qcut(customers['Tenure_Months'], 4)\n",
    "tenure_data = data.merge(customers[['CustomerID', 'Tenure_Group']], on='CustomerID')\n",
    "tenure_freq = tenure_data.groupby(['Tenure_Group', 'CustomerID'])['Transaction_ID'].nunique().reset_index()\n",
    "tenure_freq.groupby('Tenure_Group')['Transaction_ID'].mean().plot(kind='bar')"
   ]
  },
  {
   "cell_type": "markdown",
   "id": "546f9f75",
   "metadata": {},
   "source": [
    "### Q17\n",
    "**Answer:** Lower charges correlate with increased orders."
   ]
  },
  {
   "cell_type": "code",
   "execution_count": null,
   "id": "a7751b7b",
   "metadata": {},
   "outputs": [],
   "source": [
    "sns.scatterplot(x='Delivery_Charges', y='Quantity', data=data)"
   ]
  },
  {
   "cell_type": "markdown",
   "id": "2d2955c0",
   "metadata": {},
   "source": [
    "### Q18\n",
    "**Answer:** Higher taxes slightly reduce order value."
   ]
  },
  {
   "cell_type": "code",
   "execution_count": null,
   "id": "4c1e49d4",
   "metadata": {},
   "outputs": [],
   "source": [
    "# Requires joining tax info\n",
    "data = data.merge(tax_amount, on='Product_Category', how='left')\n",
    "sns.regplot(x='GST', y='Avg_Price', data=data)"
   ]
  },
  {
   "cell_type": "markdown",
   "id": "5bb570fa",
   "metadata": {},
   "source": [
    "### Q19\n",
    "**Answer:** Apparel peaks in winter, lifestyle peaks in summer."
   ]
  },
  {
   "cell_type": "code",
   "execution_count": null,
   "id": "756d420f",
   "metadata": {},
   "outputs": [],
   "source": [
    "data['Month'] = data['Transaction_Date'].dt.month\n",
    "seasonal_sales = data.groupby(['Month', 'Product_Cateogry'])['Quantity'].sum().reset_index()\n",
    "seasonal_sales.pivot(index='Month', columns='Product_Cateogry', values='Quantity').plot()"
   ]
  },
  {
   "cell_type": "markdown",
   "id": "5d7f8725",
   "metadata": {},
   "source": [
    "### Q20\n",
    "**Answer:** Weekends have lower sales."
   ]
  },
  {
   "cell_type": "code",
   "execution_count": null,
   "id": "4905781c",
   "metadata": {},
   "outputs": [],
   "source": [
    "data['DayOfWeek'] = data['Transaction_Date'].dt.day_name()\n",
    "daily_sales = data.groupby('DayOfWeek')['Avg_Price'].sum().sort_values()\n",
    "daily_sales.plot(kind='bar')"
   ]
  }
 ],
 "metadata": {},
 "nbformat": 4,
 "nbformat_minor": 5
}
